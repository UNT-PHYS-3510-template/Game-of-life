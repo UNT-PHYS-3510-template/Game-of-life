{
 "cells": [
  {
   "cell_type": "code",
   "execution_count": 1,
   "metadata": {},
   "outputs": [],
   "source": [
    "import numpy as np\n",
    "import matplotlib.pyplot as plt\n",
    "import matplotlib.animation as animation\n",
    "#import matplotlib.style as style\n",
    "#style.use('dark_background')"
   ]
  },
  {
   "cell_type": "markdown",
   "metadata": {},
   "source": [
    "### Basic steps of a Game of Life\n",
    "We can create a random board of size (nx, ny) with a randint() function of numpy.random. We need to specify the lowest and highest (excluded) integers, followed by the shape of the array that we need."
   ]
  },
  {
   "cell_type": "code",
   "execution_count": 24,
   "metadata": {},
   "outputs": [],
   "source": [
    "nx=8\n",
    "ny=8\n",
    "life=np.random.randint(0,2,(nx,ny))"
   ]
  },
  {
   "cell_type": "markdown",
   "metadata": {},
   "source": [
    "If the board is small, we can print it to check how it looks"
   ]
  },
  {
   "cell_type": "code",
   "execution_count": 25,
   "metadata": {},
   "outputs": [
    {
     "data": {
      "text/plain": [
       "array([[1, 0, 0, 0, 1, 1, 0, 0],\n",
       "       [1, 0, 1, 0, 0, 1, 1, 0],\n",
       "       [1, 0, 0, 1, 0, 0, 0, 0],\n",
       "       [1, 1, 1, 1, 0, 0, 0, 0],\n",
       "       [1, 0, 0, 1, 0, 1, 1, 0],\n",
       "       [1, 0, 0, 0, 0, 0, 0, 0],\n",
       "       [1, 0, 1, 1, 1, 1, 1, 1],\n",
       "       [0, 0, 0, 0, 0, 0, 1, 1]])"
      ]
     },
     "execution_count": 25,
     "metadata": {},
     "output_type": "execute_result"
    }
   ],
   "source": [
    "life"
   ]
  },
  {
   "cell_type": "markdown",
   "metadata": {},
   "source": [
    "However, we can visualize the board using the matplotlib visualization tool for matrices"
   ]
  },
  {
   "cell_type": "code",
   "execution_count": 26,
   "metadata": {},
   "outputs": [
    {
     "data": {
      "text/plain": [
       "<matplotlib.image.AxesImage at 0x115867160>"
      ]
     },
     "execution_count": 26,
     "metadata": {},
     "output_type": "execute_result"
    },
    {
     "data": {
      "image/png": "[encoded data removed]",
      "text/plain": [
       "<Figure size 288x288 with 1 Axes>"
      ]
     },
     "metadata": {
      "needs_background": "light"
     },
     "output_type": "display_data"
    }
   ],
   "source": [
    "plt.matshow(life)"
   ]
  },
  {
   "cell_type": "markdown",
   "metadata": {},
   "source": [
    "One step of the Game of Life algorithm requires to perform a loop over the cells and check the status of the neighboring cells. For simplicity, we will only perform the loop on the internal cells of the board (i.e. we will skip the cells at the edges)"
   ]
  },
  {
   "cell_type": "code",
   "execution_count": 27,
   "metadata": {},
   "outputs": [],
   "source": [
    "newlife=np.zeros((nx,ny),dtype='int')\n",
    "for i in range(1,nx-1): # loop over the central indexes only, skip the edges\n",
    "    for j in range(1,ny-1): # loop over the central indexes only, skip the edges\n",
    "        living_neighbors=np.sum(life[i-1:i+1,j-1:j+1]) # slice the matrix around the (i,j) cell\n",
    "        if living_neighbors == 3 : \n",
    "            # if the cell is alive and has 2 living neighbors\n",
    "            # or if the cell is dead and has 3 living neighbors\n",
    "            newlife[i,j]=1 # the cell at the next step is alive\n",
    "        elif living_neighbors == 4 :\n",
    "            # if the cell is alive and has 3 living neighbors \n",
    "            # or if the cell is dead and has 4 living neighbors \n",
    "            newlife[i,j]=life[i,j] # the cell does not change\n",
    "        # in all the other cases the cell is dead\n",
    "life = newlife"
   ]
  },
  {
   "cell_type": "code",
   "execution_count": 28,
   "metadata": {},
   "outputs": [
    {
     "data": {
      "text/plain": [
       "<matplotlib.image.AxesImage at 0x1158cea90>"
      ]
     },
     "execution_count": 28,
     "metadata": {},
     "output_type": "execute_result"
    },
    {
     "data": {
      "image/png": "[encoded data removed]",
      "text/plain": [
       "<Figure size 288x288 with 1 Axes>"
      ]
     },
     "metadata": {
      "needs_background": "light"
     },
     "output_type": "display_data"
    }
   ],
   "source": [
    "plt.matshow(life)"
   ]
  },
  {
   "cell_type": "markdown",
   "metadata": {},
   "source": [
    "Assignment 1 A-C: create a class for a Game of Life board. Create the appropriate methods and attributes."
   ]
  },
  {
   "cell_type": "code",
   "execution_count": null,
   "metadata": {},
   "outputs": [],
   "source": [
    "class life():\n",
    "\n",
    "    def __init__(self,nx,ny):\n",
    "\n",
    "\n",
    "    def alive(self):\n",
    "\n",
    "    \n",
    "    def step(self):\n",
    "\n"
   ]
  }
 ],
 "metadata": {
  "interpreter": {
   "hash": "20bf69066c0dd38d51965b69d5e1b6e387082e3198ba56e97997ac55f4e50ad0"
  },
  "kernelspec": {
   "display_name": "Python 3.7.3 64-bit",
   "language": "python",
   "name": "python3"
  },
  "language_info": {
   "codemirror_mode": {
    "name": "ipython",
    "version": 3
   },
   "file_extension": ".py",
   "mimetype": "text/x-python",
   "name": "python",
   "nbconvert_exporter": "python",
   "pygments_lexer": "ipython3",
   "version": "3.8.9"
  },
  "orig_nbformat": 4
 },
 "nbformat": 4,
 "nbformat_minor": 2
}
